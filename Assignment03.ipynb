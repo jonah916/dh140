{
 "cells": [
  {
   "cell_type": "markdown",
   "id": "bb4f5554-efc9-460e-8254-995efb5f06ac",
   "metadata": {},
   "source": [
    "# Assignment 3"
   ]
  },
  {
   "cell_type": "markdown",
   "id": "77df600c-5f4a-4e18-bd2d-88551a4f1cc6",
   "metadata": {},
   "source": [
    "## Pandas and plotting exercises"
   ]
  },
  {
   "cell_type": "code",
   "execution_count": 1,
   "id": "f5e83735-8845-4afc-b79a-b0efe963d305",
   "metadata": {},
   "outputs": [],
   "source": [
    "# Import the pandas library\n",
    "\n",
    "import pandas as pd"
   ]
  },
  {
   "cell_type": "markdown",
   "id": "c4fe53d9-5776-45c6-b47d-9465a2888808",
   "metadata": {},
   "source": [
    "In Week 2, you used a dataset from the CORGIS website.  You may have used either the Python, CSV, or JSON data files.\n",
    "\n",
    "For this assignment, use the CSV file format for the same category of data that you used previously."
   ]
  },
  {
   "cell_type": "code",
   "execution_count": 3,
   "id": "c5850ef7-07fb-456c-9943-ba9e87cc0784",
   "metadata": {},
   "outputs": [],
   "source": [
    "# Use pandas read_csv function to import the data into a dataframe variable\n",
    "\n",
    "df = pd.read_csv('construction_permits.csv')"
   ]
  },
  {
   "cell_type": "code",
   "execution_count": 10,
   "id": "ab04825f-f9ba-49ae-bf40-322f4e2554a9",
   "metadata": {},
   "outputs": [
    {
     "data": {
      "text/plain": [
       "(10747, 13)"
      ]
     },
     "execution_count": 10,
     "metadata": {},
     "output_type": "execute_result"
    }
   ],
   "source": [
    "# How many rows and columns does the dataframe have?\n",
    "\n",
    "df.shape"
   ]
  },
  {
   "cell_type": "code",
   "execution_count": 11,
   "id": "e20a45fc-dfc0-4559-977b-d2b86e2f6534",
   "metadata": {},
   "outputs": [
    {
     "data": {
      "text/plain": [
       "Index(['Name', 'Number of Permits.1 unit', 'Number of Permits.2 units',\n",
       "       'Number of Permits.3-4 units', 'Number of Permits.5+ units',\n",
       "       'Period.full', 'Period.month', 'Period.month name', 'Period.year',\n",
       "       'Valuations.1 unit', 'Valuations.2 units', 'Valuations.3-4 units',\n",
       "       'Valuations.5+ units'],\n",
       "      dtype='object')"
      ]
     },
     "execution_count": 11,
     "metadata": {},
     "output_type": "execute_result"
    }
   ],
   "source": [
    "# What are the column names of the dataframe?\n",
    "\n",
    "df.columns"
   ]
  },
  {
   "cell_type": "code",
   "execution_count": 12,
   "id": "7a549f96-8e8e-456a-a219-096dcddb1fb8",
   "metadata": {},
   "outputs": [
    {
     "data": {
      "text/plain": [
       "Name                           object\n",
       "Number of Permits.1 unit        int64\n",
       "Number of Permits.2 units       int64\n",
       "Number of Permits.3-4 units     int64\n",
       "Number of Permits.5+ units      int64\n",
       "Period.full                    object\n",
       "Period.month                    int64\n",
       "Period.month name              object\n",
       "Period.year                     int64\n",
       "Valuations.1 unit               int64\n",
       "Valuations.2 units              int64\n",
       "Valuations.3-4 units            int64\n",
       "Valuations.5+ units             int64\n",
       "dtype: object"
      ]
     },
     "execution_count": 12,
     "metadata": {},
     "output_type": "execute_result"
    }
   ],
   "source": [
    "# What are the datatypes of each column?\n",
    "\n",
    "df.dtypes"
   ]
  },
  {
   "cell_type": "code",
   "execution_count": 15,
   "id": "51471321-443e-4b23-846e-54630d29af29",
   "metadata": {},
   "outputs": [
    {
     "data": {
      "text/html": [
       "<div>\n",
       "<style scoped>\n",
       "    .dataframe tbody tr th:only-of-type {\n",
       "        vertical-align: middle;\n",
       "    }\n",
       "\n",
       "    .dataframe tbody tr th {\n",
       "        vertical-align: top;\n",
       "    }\n",
       "\n",
       "    .dataframe thead th {\n",
       "        text-align: right;\n",
       "    }\n",
       "</style>\n",
       "<table border=\"1\" class=\"dataframe\">\n",
       "  <thead>\n",
       "    <tr style=\"text-align: right;\">\n",
       "      <th></th>\n",
       "      <th>Name</th>\n",
       "      <th>Number of Permits.1 unit</th>\n",
       "      <th>Number of Permits.2 units</th>\n",
       "      <th>Number of Permits.3-4 units</th>\n",
       "      <th>Number of Permits.5+ units</th>\n",
       "      <th>Period.full</th>\n",
       "      <th>Period.month</th>\n",
       "      <th>Period.month name</th>\n",
       "      <th>Period.year</th>\n",
       "      <th>Valuations.1 unit</th>\n",
       "      <th>Valuations.2 units</th>\n",
       "      <th>Valuations.3-4 units</th>\n",
       "      <th>Valuations.5+ units</th>\n",
       "    </tr>\n",
       "  </thead>\n",
       "  <tbody>\n",
       "    <tr>\n",
       "      <th>0</th>\n",
       "      <td>Mississippi</td>\n",
       "      <td>789</td>\n",
       "      <td>0</td>\n",
       "      <td>4</td>\n",
       "      <td>82</td>\n",
       "      <td>Jun.03</td>\n",
       "      <td>6</td>\n",
       "      <td>June</td>\n",
       "      <td>2003</td>\n",
       "      <td>83156</td>\n",
       "      <td>0</td>\n",
       "      <td>146</td>\n",
       "      <td>3169</td>\n",
       "    </tr>\n",
       "    <tr>\n",
       "      <th>1</th>\n",
       "      <td>Oklahoma</td>\n",
       "      <td>1056</td>\n",
       "      <td>42</td>\n",
       "      <td>4</td>\n",
       "      <td>19</td>\n",
       "      <td>Jun.03</td>\n",
       "      <td>6</td>\n",
       "      <td>June</td>\n",
       "      <td>2003</td>\n",
       "      <td>145263</td>\n",
       "      <td>2608</td>\n",
       "      <td>173</td>\n",
       "      <td>894</td>\n",
       "    </tr>\n",
       "  </tbody>\n",
       "</table>\n",
       "</div>"
      ],
      "text/plain": [
       "          Name  Number of Permits.1 unit  Number of Permits.2 units  \\\n",
       "0  Mississippi                       789                          0   \n",
       "1     Oklahoma                      1056                         42   \n",
       "\n",
       "   Number of Permits.3-4 units  Number of Permits.5+ units Period.full  \\\n",
       "0                            4                          82      Jun.03   \n",
       "1                            4                          19      Jun.03   \n",
       "\n",
       "   Period.month Period.month name  Period.year  Valuations.1 unit  \\\n",
       "0             6              June         2003              83156   \n",
       "1             6              June         2003             145263   \n",
       "\n",
       "   Valuations.2 units  Valuations.3-4 units  Valuations.5+ units  \n",
       "0                   0                   146                 3169  \n",
       "1                2608                   173                  894  "
      ]
     },
     "execution_count": 15,
     "metadata": {},
     "output_type": "execute_result"
    }
   ],
   "source": [
    "# Look at the first 2 rows of the dataframe\n",
    "\n",
    "df.loc[[0,1]]"
   ]
  },
  {
   "cell_type": "code",
   "execution_count": 16,
   "id": "f0206392-0e77-497c-8394-ad3e229a83ab",
   "metadata": {},
   "outputs": [
    {
     "data": {
      "text/html": [
       "<div>\n",
       "<style scoped>\n",
       "    .dataframe tbody tr th:only-of-type {\n",
       "        vertical-align: middle;\n",
       "    }\n",
       "\n",
       "    .dataframe tbody tr th {\n",
       "        vertical-align: top;\n",
       "    }\n",
       "\n",
       "    .dataframe thead th {\n",
       "        text-align: right;\n",
       "    }\n",
       "</style>\n",
       "<table border=\"1\" class=\"dataframe\">\n",
       "  <thead>\n",
       "    <tr style=\"text-align: right;\">\n",
       "      <th></th>\n",
       "      <th>Name</th>\n",
       "      <th>Number of Permits.1 unit</th>\n",
       "      <th>Number of Permits.2 units</th>\n",
       "      <th>Number of Permits.3-4 units</th>\n",
       "      <th>Number of Permits.5+ units</th>\n",
       "      <th>Period.full</th>\n",
       "      <th>Period.month</th>\n",
       "      <th>Period.month name</th>\n",
       "      <th>Period.year</th>\n",
       "      <th>Valuations.1 unit</th>\n",
       "      <th>Valuations.2 units</th>\n",
       "      <th>Valuations.3-4 units</th>\n",
       "      <th>Valuations.5+ units</th>\n",
       "    </tr>\n",
       "  </thead>\n",
       "  <tbody>\n",
       "    <tr>\n",
       "      <th>10745</th>\n",
       "      <td>Oregon</td>\n",
       "      <td>998</td>\n",
       "      <td>28</td>\n",
       "      <td>0</td>\n",
       "      <td>538</td>\n",
       "      <td>Dec.20</td>\n",
       "      <td>12</td>\n",
       "      <td>December</td>\n",
       "      <td>2020</td>\n",
       "      <td>266452</td>\n",
       "      <td>4721</td>\n",
       "      <td>0</td>\n",
       "      <td>59410</td>\n",
       "    </tr>\n",
       "    <tr>\n",
       "      <th>10746</th>\n",
       "      <td>Washington</td>\n",
       "      <td>1951</td>\n",
       "      <td>98</td>\n",
       "      <td>85</td>\n",
       "      <td>2168</td>\n",
       "      <td>Dec.20</td>\n",
       "      <td>12</td>\n",
       "      <td>December</td>\n",
       "      <td>2020</td>\n",
       "      <td>577463</td>\n",
       "      <td>22284</td>\n",
       "      <td>16504</td>\n",
       "      <td>401363</td>\n",
       "    </tr>\n",
       "  </tbody>\n",
       "</table>\n",
       "</div>"
      ],
      "text/plain": [
       "             Name  Number of Permits.1 unit  Number of Permits.2 units  \\\n",
       "10745      Oregon                       998                         28   \n",
       "10746  Washington                      1951                         98   \n",
       "\n",
       "       Number of Permits.3-4 units  Number of Permits.5+ units Period.full  \\\n",
       "10745                            0                         538      Dec.20   \n",
       "10746                           85                        2168      Dec.20   \n",
       "\n",
       "       Period.month Period.month name  Period.year  Valuations.1 unit  \\\n",
       "10745            12          December         2020             266452   \n",
       "10746            12          December         2020             577463   \n",
       "\n",
       "       Valuations.2 units  Valuations.3-4 units  Valuations.5+ units  \n",
       "10745                4721                     0                59410  \n",
       "10746               22284                 16504               401363  "
      ]
     },
     "execution_count": 16,
     "metadata": {},
     "output_type": "execute_result"
    }
   ],
   "source": [
    "# Look at the last 2 rows of the dataframe\n",
    "\n",
    "df.tail(2)"
   ]
  },
  {
   "cell_type": "code",
   "execution_count": 19,
   "id": "e87824ad-9ff4-487d-8506-00d940083ae0",
   "metadata": {},
   "outputs": [
    {
     "data": {
      "text/html": [
       "<div>\n",
       "<style scoped>\n",
       "    .dataframe tbody tr th:only-of-type {\n",
       "        vertical-align: middle;\n",
       "    }\n",
       "\n",
       "    .dataframe tbody tr th {\n",
       "        vertical-align: top;\n",
       "    }\n",
       "\n",
       "    .dataframe thead th {\n",
       "        text-align: right;\n",
       "    }\n",
       "</style>\n",
       "<table border=\"1\" class=\"dataframe\">\n",
       "  <thead>\n",
       "    <tr style=\"text-align: right;\">\n",
       "      <th></th>\n",
       "      <th>Number of Permits.1 unit</th>\n",
       "      <th>Number of Permits.2 units</th>\n",
       "      <th>Number of Permits.3-4 units</th>\n",
       "      <th>Number of Permits.5+ units</th>\n",
       "      <th>Period.month</th>\n",
       "      <th>Period.year</th>\n",
       "      <th>Valuations.1 unit</th>\n",
       "      <th>Valuations.2 units</th>\n",
       "      <th>Valuations.3-4 units</th>\n",
       "      <th>Valuations.5+ units</th>\n",
       "    </tr>\n",
       "  </thead>\n",
       "  <tbody>\n",
       "    <tr>\n",
       "      <th>count</th>\n",
       "      <td>10747.000000</td>\n",
       "      <td>10747.000000</td>\n",
       "      <td>10747.000000</td>\n",
       "      <td>10747.000000</td>\n",
       "      <td>10747.000000</td>\n",
       "      <td>10747.000000</td>\n",
       "      <td>1.074700e+04</td>\n",
       "      <td>10747.000000</td>\n",
       "      <td>10747.000000</td>\n",
       "      <td>1.074700e+04</td>\n",
       "    </tr>\n",
       "    <tr>\n",
       "      <th>mean</th>\n",
       "      <td>1392.599330</td>\n",
       "      <td>34.900903</td>\n",
       "      <td>35.464781</td>\n",
       "      <td>543.314599</td>\n",
       "      <td>6.582116</td>\n",
       "      <td>2011.690797</td>\n",
       "      <td>1.953297e+05</td>\n",
       "      <td>2777.825440</td>\n",
       "      <td>2760.769610</td>\n",
       "      <td>3.455726e+04</td>\n",
       "    </tr>\n",
       "    <tr>\n",
       "      <th>std</th>\n",
       "      <td>2053.044099</td>\n",
       "      <td>56.482838</td>\n",
       "      <td>64.193813</td>\n",
       "      <td>964.257826</td>\n",
       "      <td>3.442845</td>\n",
       "      <td>5.074538</td>\n",
       "      <td>3.568561e+05</td>\n",
       "      <td>5643.193759</td>\n",
       "      <td>6441.393513</td>\n",
       "      <td>8.478802e+04</td>\n",
       "    </tr>\n",
       "    <tr>\n",
       "      <th>min</th>\n",
       "      <td>0.000000</td>\n",
       "      <td>0.000000</td>\n",
       "      <td>0.000000</td>\n",
       "      <td>0.000000</td>\n",
       "      <td>1.000000</td>\n",
       "      <td>2003.000000</td>\n",
       "      <td>0.000000e+00</td>\n",
       "      <td>0.000000</td>\n",
       "      <td>0.000000</td>\n",
       "      <td>0.000000e+00</td>\n",
       "    </tr>\n",
       "    <tr>\n",
       "      <th>25%</th>\n",
       "      <td>317.000000</td>\n",
       "      <td>4.000000</td>\n",
       "      <td>3.000000</td>\n",
       "      <td>54.000000</td>\n",
       "      <td>4.000000</td>\n",
       "      <td>2007.000000</td>\n",
       "      <td>2.422000e+03</td>\n",
       "      <td>28.000000</td>\n",
       "      <td>8.000000</td>\n",
       "      <td>5.815000e+02</td>\n",
       "    </tr>\n",
       "    <tr>\n",
       "      <th>50%</th>\n",
       "      <td>771.000000</td>\n",
       "      <td>16.000000</td>\n",
       "      <td>12.000000</td>\n",
       "      <td>218.000000</td>\n",
       "      <td>7.000000</td>\n",
       "      <td>2012.000000</td>\n",
       "      <td>7.625200e+04</td>\n",
       "      <td>639.000000</td>\n",
       "      <td>485.000000</td>\n",
       "      <td>5.585000e+03</td>\n",
       "    </tr>\n",
       "    <tr>\n",
       "      <th>75%</th>\n",
       "      <td>1522.000000</td>\n",
       "      <td>40.000000</td>\n",
       "      <td>40.000000</td>\n",
       "      <td>593.500000</td>\n",
       "      <td>10.000000</td>\n",
       "      <td>2016.000000</td>\n",
       "      <td>2.194410e+05</td>\n",
       "      <td>2828.500000</td>\n",
       "      <td>2516.000000</td>\n",
       "      <td>3.030700e+04</td>\n",
       "    </tr>\n",
       "    <tr>\n",
       "      <th>max</th>\n",
       "      <td>20044.000000</td>\n",
       "      <td>806.000000</td>\n",
       "      <td>828.000000</td>\n",
       "      <td>18965.000000</td>\n",
       "      <td>12.000000</td>\n",
       "      <td>2020.000000</td>\n",
       "      <td>3.686654e+06</td>\n",
       "      <td>95212.000000</td>\n",
       "      <td>153505.000000</td>\n",
       "      <td>1.668822e+06</td>\n",
       "    </tr>\n",
       "  </tbody>\n",
       "</table>\n",
       "</div>"
      ],
      "text/plain": [
       "       Number of Permits.1 unit  Number of Permits.2 units  \\\n",
       "count              10747.000000               10747.000000   \n",
       "mean                1392.599330                  34.900903   \n",
       "std                 2053.044099                  56.482838   \n",
       "min                    0.000000                   0.000000   \n",
       "25%                  317.000000                   4.000000   \n",
       "50%                  771.000000                  16.000000   \n",
       "75%                 1522.000000                  40.000000   \n",
       "max                20044.000000                 806.000000   \n",
       "\n",
       "       Number of Permits.3-4 units  Number of Permits.5+ units  Period.month  \\\n",
       "count                 10747.000000                10747.000000  10747.000000   \n",
       "mean                     35.464781                  543.314599      6.582116   \n",
       "std                      64.193813                  964.257826      3.442845   \n",
       "min                       0.000000                    0.000000      1.000000   \n",
       "25%                       3.000000                   54.000000      4.000000   \n",
       "50%                      12.000000                  218.000000      7.000000   \n",
       "75%                      40.000000                  593.500000     10.000000   \n",
       "max                     828.000000                18965.000000     12.000000   \n",
       "\n",
       "        Period.year  Valuations.1 unit  Valuations.2 units  \\\n",
       "count  10747.000000       1.074700e+04        10747.000000   \n",
       "mean    2011.690797       1.953297e+05         2777.825440   \n",
       "std        5.074538       3.568561e+05         5643.193759   \n",
       "min     2003.000000       0.000000e+00            0.000000   \n",
       "25%     2007.000000       2.422000e+03           28.000000   \n",
       "50%     2012.000000       7.625200e+04          639.000000   \n",
       "75%     2016.000000       2.194410e+05         2828.500000   \n",
       "max     2020.000000       3.686654e+06        95212.000000   \n",
       "\n",
       "       Valuations.3-4 units  Valuations.5+ units  \n",
       "count          10747.000000         1.074700e+04  \n",
       "mean            2760.769610         3.455726e+04  \n",
       "std             6441.393513         8.478802e+04  \n",
       "min                0.000000         0.000000e+00  \n",
       "25%                8.000000         5.815000e+02  \n",
       "50%              485.000000         5.585000e+03  \n",
       "75%             2516.000000         3.030700e+04  \n",
       "max           153505.000000         1.668822e+06  "
      ]
     },
     "execution_count": 19,
     "metadata": {},
     "output_type": "execute_result"
    }
   ],
   "source": [
    "# Print out summary statistics about the dataframe\n",
    "\n",
    "df.describe()"
   ]
  },
  {
   "cell_type": "code",
   "execution_count": 20,
   "id": "9b5dfabd-61b3-4cda-80d4-7a20444afa25",
   "metadata": {},
   "outputs": [
    {
     "data": {
      "text/plain": [
       "0          83156\n",
       "1         145263\n",
       "2         497828\n",
       "3         736772\n",
       "4         769867\n",
       "          ...   \n",
       "10742      30741\n",
       "10743    1542009\n",
       "10744      89315\n",
       "10745     266452\n",
       "10746     577463\n",
       "Name: Valuations.1 unit, Length: 10747, dtype: int64"
      ]
     },
     "execution_count": 20,
     "metadata": {},
     "output_type": "execute_result"
    }
   ],
   "source": [
    "# Choose a column and print out the column (it's ok if the output is abbreviated)\n",
    "\n",
    "df['Valuations.1 unit']"
   ]
  },
  {
   "cell_type": "code",
   "execution_count": 22,
   "id": "0c5e2c07-0dff-4e78-bbb7-8faef3fdf758",
   "metadata": {},
   "outputs": [
    {
     "data": {
      "text/plain": [
       "<AxesSubplot:>"
      ]
     },
     "execution_count": 22,
     "metadata": {},
     "output_type": "execute_result"
    },
    {
     "data": {
      "image/png": "[encoded data removed]",
      "text/plain": [
       "<Figure size 432x288 with 1 Axes>"
      ]
     },
     "metadata": {
      "needs_background": "light"
     },
     "output_type": "display_data"
    }
   ],
   "source": [
    "# Choose a column that has numeric values and make a line plot of the values\n",
    "\n",
    "df['Number of Permits.1 unit'].plot()"
   ]
  },
  {
   "cell_type": "code",
   "execution_count": 24,
   "id": "6e7c7f92-3b6c-4cd0-a9ef-6356cb4c2ca5",
   "metadata": {},
   "outputs": [
    {
     "data": {
      "text/plain": [
       "0      789\n",
       "1     1056\n",
       "2     3245\n",
       "3     4543\n",
       "4     6529\n",
       "5      888\n",
       "6     1117\n",
       "7     3138\n",
       "8     3239\n",
       "9    12235\n",
       "Name: Number of Permits.1 unit, dtype: int64"
      ]
     },
     "execution_count": 24,
     "metadata": {},
     "output_type": "execute_result"
    }
   ],
   "source": [
    "# Use \"loc\" to print out the first 10 elements of the plotted column\n",
    "\n",
    "df.loc[:9,'Number of Permits.1 unit']"
   ]
  },
  {
   "cell_type": "code",
   "execution_count": 26,
   "id": "3a7b0251-f9e3-4f81-858d-d6c1c2b41e2d",
   "metadata": {},
   "outputs": [
    {
     "data": {
      "text/html": [
       "<div>\n",
       "<style scoped>\n",
       "    .dataframe tbody tr th:only-of-type {\n",
       "        vertical-align: middle;\n",
       "    }\n",
       "\n",
       "    .dataframe tbody tr th {\n",
       "        vertical-align: top;\n",
       "    }\n",
       "\n",
       "    .dataframe thead th {\n",
       "        text-align: right;\n",
       "    }\n",
       "</style>\n",
       "<table border=\"1\" class=\"dataframe\">\n",
       "  <thead>\n",
       "    <tr style=\"text-align: right;\">\n",
       "      <th></th>\n",
       "      <th>Name</th>\n",
       "      <th>Number of Permits.1 unit</th>\n",
       "    </tr>\n",
       "  </thead>\n",
       "  <tbody>\n",
       "    <tr>\n",
       "      <th>0</th>\n",
       "      <td>Mississippi</td>\n",
       "      <td>789</td>\n",
       "    </tr>\n",
       "    <tr>\n",
       "      <th>1</th>\n",
       "      <td>Oklahoma</td>\n",
       "      <td>1056</td>\n",
       "    </tr>\n",
       "    <tr>\n",
       "      <th>2</th>\n",
       "      <td>Minnesota</td>\n",
       "      <td>3245</td>\n",
       "    </tr>\n",
       "    <tr>\n",
       "      <th>3</th>\n",
       "      <td>Illinois</td>\n",
       "      <td>4543</td>\n",
       "    </tr>\n",
       "    <tr>\n",
       "      <th>4</th>\n",
       "      <td>Georgia</td>\n",
       "      <td>6529</td>\n",
       "    </tr>\n",
       "    <tr>\n",
       "      <th>5</th>\n",
       "      <td>Arkansas</td>\n",
       "      <td>888</td>\n",
       "    </tr>\n",
       "    <tr>\n",
       "      <th>6</th>\n",
       "      <td>New Mexico</td>\n",
       "      <td>1117</td>\n",
       "    </tr>\n",
       "    <tr>\n",
       "      <th>7</th>\n",
       "      <td>Indiana</td>\n",
       "      <td>3138</td>\n",
       "    </tr>\n",
       "    <tr>\n",
       "      <th>8</th>\n",
       "      <td>Maryland</td>\n",
       "      <td>3239</td>\n",
       "    </tr>\n",
       "    <tr>\n",
       "      <th>9</th>\n",
       "      <td>Texas</td>\n",
       "      <td>12235</td>\n",
       "    </tr>\n",
       "  </tbody>\n",
       "</table>\n",
       "</div>"
      ],
      "text/plain": [
       "          Name  Number of Permits.1 unit\n",
       "0  Mississippi                       789\n",
       "1     Oklahoma                      1056\n",
       "2    Minnesota                      3245\n",
       "3     Illinois                      4543\n",
       "4      Georgia                      6529\n",
       "5     Arkansas                       888\n",
       "6   New Mexico                      1117\n",
       "7      Indiana                      3138\n",
       "8     Maryland                      3239\n",
       "9        Texas                     12235"
      ]
     },
     "execution_count": 26,
     "metadata": {},
     "output_type": "execute_result"
    }
   ],
   "source": [
    "# Use \"loc\" to print out the first 10 elements of the plotted column\n",
    "# as well as the matching 10 elements of a different column that has interesting text\n",
    "\n",
    "df.loc[:9,['Name','Number of Permits.1 unit']]"
   ]
  },
  {
   "cell_type": "code",
   "execution_count": 47,
   "id": "e2b2a59b-4246-40cc-b5de-728bd678b832",
   "metadata": {},
   "outputs": [
    {
     "data": {
      "image/png": "[encoded data removed]",
      "text/plain": [
       "<Figure size 432x288 with 1 Axes>"
      ]
     },
     "metadata": {
      "needs_background": "light"
     },
     "output_type": "display_data"
    }
   ],
   "source": [
    "# Assign the dataframe values from the previous cell into a new dataframe variable\n",
    "# and make a bar plot with the text values horizontally and the numeric values as the bar heights\n",
    "\n",
    "firstten = df.loc[:9,['Name','Number of Permits.1 unit']]\n",
    "firstten.plot(kind=\"bar\",x='Name',y='Number of Permits.1 unit');"
   ]
  },
  {
   "cell_type": "code",
   "execution_count": 32,
   "id": "46120796-845a-49b3-997f-b44825e375ea",
   "metadata": {},
   "outputs": [
    {
     "data": {
      "image/png": "[encoded data removed]",
      "text/plain": [
       "<Figure size 432x288 with 1 Axes>"
      ]
     },
     "metadata": {
      "needs_background": "light"
     },
     "output_type": "display_data"
    }
   ],
   "source": [
    "# Re-do the plot from the previous cell as a horizontal bar plot\n",
    "\n",
    "firstten.plot(kind=\"barh\",x='Name',y='Number of Permits.1 unit');"
   ]
  },
  {
   "cell_type": "code",
   "execution_count": 52,
   "id": "c8273eab-a2d6-445a-a92d-869375b82428",
   "metadata": {},
   "outputs": [
    {
     "data": {
      "image/png": "[encoded data removed]",
      "text/plain": [
       "<Figure size 432x288 with 1 Axes>"
      ]
     },
     "metadata": {
      "needs_background": "light"
     },
     "output_type": "display_data"
    }
   ],
   "source": [
    "# Re-do the plot from the previous cell\n",
    "# and change at least two aesthetic elements (colors, labels, titles, ...)\n",
    "\n",
    "firstten = firstten.sort_values(by = 'Number of Permits.1 unit', ascending = True) # sort by permit counts\n",
    "\n",
    "barcolors = []\n",
    "# southern states are blue, the rest are gray\n",
    "for i in firstten[:10].index:\n",
    "    if firstten.loc[i, 'Name'] in ['Texas','Arkansas','Georgia','Mississippi']:\n",
    "        barcolors.append('blue')\n",
    "    else:\n",
    "        barcolors.append('grey')\n",
    "        \n",
    "barp = firstten.plot(kind=\"barh\",x='Name',y='Number of Permits.1 unit',color=barcolors)\n",
    "barp.legend(['Southern States'])\n",
    "barp.set_title('Number of 1-Unit Permits Granted by State')\n",
    "barp.set_xlabel('Number of Permits');"
   ]
  },
  {
   "cell_type": "markdown",
   "id": "48245e7e-c7b9-43ee-a8e2-d66502b899fc",
   "metadata": {},
   "source": [
    "# Free form section"
   ]
  },
  {
   "cell_type": "markdown",
   "id": "66503e37-f96a-4a25-aaf6-c7d8b9f8cbdd",
   "metadata": {},
   "source": [
    "* Choose another type of plot that interests you from the [pandas.DataFrame.plot documentation](https://pandas.pydata.org/docs/reference/api/pandas.DataFrame.plot.html#) [look at the 'kind' parameter] and make a new plot of your dataset values using the plot type"
   ]
  },
  {
   "cell_type": "code",
   "execution_count": 91,
   "id": "3fa0ce73-b09e-46a6-b1e7-2d68f2696f8d",
   "metadata": {},
   "outputs": [
    {
     "data": {
      "text/html": [
       "<div>\n",
       "<style scoped>\n",
       "    .dataframe tbody tr th:only-of-type {\n",
       "        vertical-align: middle;\n",
       "    }\n",
       "\n",
       "    .dataframe tbody tr th {\n",
       "        vertical-align: top;\n",
       "    }\n",
       "\n",
       "    .dataframe thead th {\n",
       "        text-align: right;\n",
       "    }\n",
       "</style>\n",
       "<table border=\"1\" class=\"dataframe\">\n",
       "  <thead>\n",
       "    <tr style=\"text-align: right;\">\n",
       "      <th></th>\n",
       "      <th>Number of Permits.1 unit</th>\n",
       "      <th>Number of Permits.2 units</th>\n",
       "      <th>Number of Permits.3-4 units</th>\n",
       "      <th>Number of Permits.5+ units</th>\n",
       "    </tr>\n",
       "    <tr>\n",
       "      <th>Period.month name</th>\n",
       "      <th></th>\n",
       "      <th></th>\n",
       "      <th></th>\n",
       "      <th></th>\n",
       "    </tr>\n",
       "  </thead>\n",
       "  <tbody>\n",
       "    <tr>\n",
       "      <th>January</th>\n",
       "      <td>966884</td>\n",
       "      <td>24012</td>\n",
       "      <td>24765</td>\n",
       "      <td>409999</td>\n",
       "    </tr>\n",
       "    <tr>\n",
       "      <th>February</th>\n",
       "      <td>1007267</td>\n",
       "      <td>24188</td>\n",
       "      <td>24854</td>\n",
       "      <td>391585</td>\n",
       "    </tr>\n",
       "    <tr>\n",
       "      <th>March</th>\n",
       "      <td>1286654</td>\n",
       "      <td>30870</td>\n",
       "      <td>32109</td>\n",
       "      <td>454188</td>\n",
       "    </tr>\n",
       "    <tr>\n",
       "      <th>April</th>\n",
       "      <td>1290667</td>\n",
       "      <td>30222</td>\n",
       "      <td>29496</td>\n",
       "      <td>452719</td>\n",
       "    </tr>\n",
       "    <tr>\n",
       "      <th>May</th>\n",
       "      <td>1341135</td>\n",
       "      <td>31288</td>\n",
       "      <td>31096</td>\n",
       "      <td>493278</td>\n",
       "    </tr>\n",
       "    <tr>\n",
       "      <th>June</th>\n",
       "      <td>1507831</td>\n",
       "      <td>36908</td>\n",
       "      <td>37813</td>\n",
       "      <td>572116</td>\n",
       "    </tr>\n",
       "    <tr>\n",
       "      <th>July</th>\n",
       "      <td>1402699</td>\n",
       "      <td>34476</td>\n",
       "      <td>35543</td>\n",
       "      <td>485712</td>\n",
       "    </tr>\n",
       "    <tr>\n",
       "      <th>August</th>\n",
       "      <td>1420146</td>\n",
       "      <td>35440</td>\n",
       "      <td>36628</td>\n",
       "      <td>517681</td>\n",
       "    </tr>\n",
       "    <tr>\n",
       "      <th>September</th>\n",
       "      <td>1295230</td>\n",
       "      <td>34102</td>\n",
       "      <td>34336</td>\n",
       "      <td>510599</td>\n",
       "    </tr>\n",
       "    <tr>\n",
       "      <th>October</th>\n",
       "      <td>1310308</td>\n",
       "      <td>36104</td>\n",
       "      <td>33567</td>\n",
       "      <td>528467</td>\n",
       "    </tr>\n",
       "    <tr>\n",
       "      <th>November</th>\n",
       "      <td>1082153</td>\n",
       "      <td>29786</td>\n",
       "      <td>30120</td>\n",
       "      <td>479101</td>\n",
       "    </tr>\n",
       "    <tr>\n",
       "      <th>December</th>\n",
       "      <td>1055291</td>\n",
       "      <td>27684</td>\n",
       "      <td>30813</td>\n",
       "      <td>543557</td>\n",
       "    </tr>\n",
       "  </tbody>\n",
       "</table>\n",
       "</div>"
      ],
      "text/plain": [
       "                   Number of Permits.1 unit  Number of Permits.2 units  \\\n",
       "Period.month name                                                        \n",
       "January                              966884                      24012   \n",
       "February                            1007267                      24188   \n",
       "March                               1286654                      30870   \n",
       "April                               1290667                      30222   \n",
       "May                                 1341135                      31288   \n",
       "June                                1507831                      36908   \n",
       "July                                1402699                      34476   \n",
       "August                              1420146                      35440   \n",
       "September                           1295230                      34102   \n",
       "October                             1310308                      36104   \n",
       "November                            1082153                      29786   \n",
       "December                            1055291                      27684   \n",
       "\n",
       "                   Number of Permits.3-4 units  Number of Permits.5+ units  \n",
       "Period.month name                                                           \n",
       "January                                  24765                      409999  \n",
       "February                                 24854                      391585  \n",
       "March                                    32109                      454188  \n",
       "April                                    29496                      452719  \n",
       "May                                      31096                      493278  \n",
       "June                                     37813                      572116  \n",
       "July                                     35543                      485712  \n",
       "August                                   36628                      517681  \n",
       "September                                34336                      510599  \n",
       "October                                  33567                      528467  \n",
       "November                                 30120                      479101  \n",
       "December                                 30813                      543557  "
      ]
     },
     "execution_count": 91,
     "metadata": {},
     "output_type": "execute_result"
    }
   ],
   "source": [
    "# count of permits by month\n",
    "permitcounts = df.groupby('Period.month name')[['Number of Permits.1 unit','Number of Permits.2 units','Number of Permits.3-4 units','Number of Permits.5+ units']].sum()\n",
    "months = [\"January\", \"February\", \"March\", \"April\", \"May\", \"June\", \n",
    "          \"July\", \"August\", \"September\", \"October\", \"November\", \"December\"]\n",
    "permitcounts = permitcounts.reindex(months) # reindex by the proper order of months\n",
    "permitcounts"
   ]
  },
  {
   "cell_type": "code",
   "execution_count": 135,
   "id": "b90d1aa3-152e-4084-b125-850684e72b74",
   "metadata": {
    "tags": []
   },
   "outputs": [
    {
     "data": {
      "image/png": "[encoded data removed]",
      "text/plain": [
       "<Figure size 1296x288 with 1 Axes>"
      ]
     },
     "metadata": {
      "needs_background": "light"
     },
     "output_type": "display_data"
    }
   ],
   "source": [
    "import matplotlib.pyplot as plt\n",
    "\n",
    "permitcounts.plot(kind = 'area',\n",
    "                  figsize=(18,4),\n",
    "                  yticks = range(0,2200000,250000),\n",
    "                  ylim = (0,2200000),\n",
    "                  xlabel = 'Month',\n",
    "                  title = 'Number of Each Permit Type by Month');"
   ]
  },
  {
   "cell_type": "markdown",
   "id": "6eb40e90-d302-49d1-a8a3-ed406d9b984d",
   "metadata": {},
   "source": [
    "* Copy some of your analysis from the Week 2 assignment into new cells below\n",
    "* Clean them up if desired, and make sure that you translate them to work with your new pandas dataframe structure here if needed\n",
    "* Create several plots to complement and extend your analysis"
   ]
  },
  {
   "cell_type": "code",
   "execution_count": null,
   "id": "7d756a6d-3b15-48c0-b4ee-2a8772506dd2",
   "metadata": {},
   "outputs": [],
   "source": []
  }
 ],
 "metadata": {
  "kernelspec": {
   "display_name": "Python 3 (ipykernel)",
   "language": "python",
   "name": "python3"
  },
  "language_info": {
   "codemirror_mode": {
    "name": "ipython",
    "version": 3
   },
   "file_extension": ".py",
   "mimetype": "text/x-python",
   "name": "python",
   "nbconvert_exporter": "python",
   "pygments_lexer": "ipython3",
   "version": "3.9.6"
  }
 },
 "nbformat": 4,
 "nbformat_minor": 5
}
