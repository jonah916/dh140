{
 "cells": [
  {
   "cell_type": "markdown",
   "id": "0eaf5966-19ee-44cb-999e-246b71ca65ad",
   "metadata": {},
   "source": [
    "# Assignment 02 - Analyzing CORGIS data (housing permits)"
   ]
  },
  {
   "cell_type": "markdown",
   "id": "03b776ad-88d4-4143-9c33-fc2c21850de4",
   "metadata": {},
   "source": [
    "## Reading the data"
   ]
  },
  {
   "cell_type": "code",
   "execution_count": 1,
   "id": "977a8dcf-d103-4dcf-979e-0a4807bb4a3a",
   "metadata": {},
   "outputs": [],
   "source": [
    "import construction_permits\n",
    "permit = construction_permits.get_permit()"
   ]
  },
  {
   "cell_type": "markdown",
   "id": "c68dd1de-937a-439a-b35d-355edce99792",
   "metadata": {},
   "source": [
    "## Mathematical operations"
   ]
  },
  {
   "cell_type": "code",
   "execution_count": 15,
   "id": "170e0782-de86-4e98-b766-4d355697ca01",
   "metadata": {},
   "outputs": [
    {
     "data": {
      "text/plain": [
       "875"
      ]
     },
     "execution_count": 15,
     "metadata": {},
     "output_type": "execute_result"
    }
   ],
   "source": [
    "MS = permit[0] # data for Mississippi\n",
    "MSPermits = MS['Number of Permits'].values() # permit counts for MS\n",
    "sum(MSPermits) # total number of permits granted in MS"
   ]
  },
  {
   "cell_type": "markdown",
   "id": "1ee7bca4-dc94-4f76-bdb2-4676da4bfc5e",
   "metadata": {},
   "source": [
    "## Conditional Expression"
   ]
  },
  {
   "cell_type": "code",
   "execution_count": 27,
   "id": "f199f598-f81e-4677-bdcf-26a9fed3224f",
   "metadata": {},
   "outputs": [
    {
     "name": "stdout",
     "output_type": "stream",
     "text": [
      "{'Name': 'Nevada', 'Number of Permits': {'1 unit': 3346, '2 units': 6, '3-4 units': 161, '5+ units': 528}, 'Period': {'full': 'Jun.03', 'month': 6, 'month name': 'June', 'year': 2003}, 'Valuations': {'1 unit': 425232, '2 units': 866, '3-4 units': 14775, '5+ units': 27703}}\n",
      "Based\n"
     ]
    }
   ],
   "source": [
    "NV = permit[49] # data for NV\n",
    "NVValuations = NV['Valuations'] # valuations data for NV\n",
    "if NVValuations['5+ units'] >= NVValuations['3-4 units']:\n",
    "    print('Based')\n",
    "elif NVValuations['3-4 units'] >= NVValuations['2 units']:\n",
    "    print('less based')\n",
    "elif NVValuations['2 units'] >= NVValuations['1 unit']:\n",
    "    print('even less based')\n",
    "else:\n",
    "    print('cringe')"
   ]
  },
  {
   "cell_type": "markdown",
   "id": "f736b709-1ad4-4ec5-8a3e-a7c61459a372",
   "metadata": {},
   "source": [
    "## For Loop"
   ]
  },
  {
   "cell_type": "code",
   "execution_count": 44,
   "id": "a1adf76c-ca45-45d1-83e3-54f49c922c6b",
   "metadata": {},
   "outputs": [
    {
     "data": {
      "text/plain": [
       "{'1 unit': 0, '2 units': 0, '3-4 units': 0, '5+ units': 0}"
      ]
     },
     "execution_count": 44,
     "metadata": {},
     "output_type": "execute_result"
    }
   ],
   "source": [
    "# plan is to find out how many total permits of each type were granted across all the states\n",
    "# we initialize a dictionary with 0 of each permit type\n",
    "permit_totals = {k:0 for k in NV['Number of Permits'].keys()}\n",
    "permit_totals"
   ]
  },
  {
   "cell_type": "code",
   "execution_count": 45,
   "id": "37efe390-aee9-4742-96b7-fe6a937c6051",
   "metadata": {},
   "outputs": [
    {
     "data": {
      "text/plain": [
       "{'1 unit': 14969091,\n",
       " '2 units': 379184,\n",
       " '3-4 units': 378319,\n",
       " '5+ units': 5834893}"
      ]
     },
     "execution_count": 45,
     "metadata": {},
     "output_type": "execute_result"
    }
   ],
   "source": [
    "for state in permit:\n",
    "    # for each state, retrieve the list of permit counts\n",
    "    unitcounts = list(state['Number of Permits'].values())\n",
    "    for num in unitcounts:\n",
    "        # add each value in that list to its corresponding unit type in the dictionary of permit totals\n",
    "        permit_totals[list(permit_totals.keys())[unitcounts.index(num)]] += num\n",
    "        \n",
    "permit_totals"
   ]
  },
  {
   "cell_type": "markdown",
   "id": "2eed6fa0-3587-4f1e-b484-d0d1b83a7f8f",
   "metadata": {
    "tags": []
   },
   "source": [
    "## New Function"
   ]
  },
  {
   "cell_type": "code",
   "execution_count": 28,
   "id": "ff229278-69ea-4f79-8fa4-ce6010cd3278",
   "metadata": {},
   "outputs": [],
   "source": [
    "# plan: function will take any state name as input and return the type of permit that was granted most often,\n",
    "# along with how many times it was granted\n",
    "\n",
    "def most_permits(state):\n",
    "    # retrieve dictionary of data for an entire state\n",
    "    state_data = next(i for i in permit if i['Name'] == state)\n",
    "    # retrieve num permits data for state provided\n",
    "    state_permit_dict = state_data['Number of Permits']\n",
    "    # retrieve which level of units has max num of permits\n",
    "    max_units = max(state_permit_dict, key = state_permit_dict.get)\n",
    "    # return max key-value pair\n",
    "    return {max_units: state_permit_dict[max_units]}"
   ]
  },
  {
   "cell_type": "code",
   "execution_count": 29,
   "id": "8a414734-a368-4424-8dfe-698e386c84e3",
   "metadata": {},
   "outputs": [
    {
     "data": {
      "text/plain": [
       "{'1 unit': 888}"
      ]
     },
     "execution_count": 29,
     "metadata": {},
     "output_type": "execute_result"
    }
   ],
   "source": [
    "most_permits(\"Arkansas\")"
   ]
  }
 ],
 "metadata": {
  "kernelspec": {
   "display_name": "Python 3 (ipykernel)",
   "language": "python",
   "name": "python3"
  },
  "language_info": {
   "codemirror_mode": {
    "name": "ipython",
    "version": 3
   },
   "file_extension": ".py",
   "mimetype": "text/x-python",
   "name": "python",
   "nbconvert_exporter": "python",
   "pygments_lexer": "ipython3",
   "version": "3.9.6"
  }
 },
 "nbformat": 4,
 "nbformat_minor": 5
}
